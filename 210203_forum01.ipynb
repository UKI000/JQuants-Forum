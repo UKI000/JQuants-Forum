{
 "cells": [
  {
   "cell_type": "markdown",
   "metadata": {},
   "source": [
    "# 【先行研究：高値と安値を予測する問題】\n",
    "株式市場では、高値と安値のレンジを予測する先行研究があります。これはマーケットメイカー（値付け業者）が取引板の上下に指値を出し、高値と安値のレンジを予測して収益を最大化するための研究となります。\n",
    "\n",
    "「執行戦略と取引コストに関する研究の進展」杉原\n",
    "\n",
    "https://www.imes.boj.or.jp/research/papers/japanese/kk31-1-8.pdf\n",
    "\n",
    "この論文中の式(21)に表されるように、基本的に高値、安値のレンジはボラティリティの関数となります。実際に、チュートリアルのtrainデータ、valデータ、testデータでも、特徴量\"volatility_1month\"だけでかなりの精度を得ることができます。"
   ]
  },
  {
   "cell_type": "code",
   "execution_count": 2,
   "metadata": {},
   "outputs": [],
   "source": [
    "import pickle\n",
    "import datetime\n",
    "import warnings\n",
    "\n",
    "import numpy as np\n",
    "import pandas as pd\n",
    "import seaborn as sns\n",
    "import matplotlib.pyplot as plt\n",
    "from matplotlib.dates import date2num, DayLocator, DateFormatter\n",
    "from mpl_finance import candlestick2_ohlc, volume_overlay\n",
    "\n",
    "from IPython.display import Image\n",
    "\n",
    "from sklearn.linear_model import LinearRegression\n",
    "from sklearn.ensemble import ExtraTreesRegressor\n",
    "from tqdm.auto import tqdm\n",
    "\n",
    "%matplotlib inline\n",
    "pd.options.display.max_rows = 100\n",
    "pd.options.display.max_columns = 100\n",
    "pd.options.display.width = 120\n",
    "warnings.simplefilter('ignore')"
   ]
  },
  {
   "cell_type": "code",
   "execution_count": 3,
   "metadata": {},
   "outputs": [],
   "source": [
    "def pickle_dump(obj, path):\n",
    "    with open(path, mode='wb') as f:\n",
    "        pickle.dump(obj,f)\n",
    "\n",
    "def pickle_load(path):\n",
    "    with open(path, mode='rb') as f:\n",
    "        data = pickle.load(f)\n",
    "        return data"
   ]
  },
  {
   "cell_type": "code",
   "execution_count": 4,
   "metadata": {},
   "outputs": [],
   "source": [
    "# チュートリアルのtrain_X, val_X, test_X, train_y, val_y, test_y　私はpickleで保存しています\n",
    "# \"\"の中身はご自身の環境に合わせて定義してください\n",
    "train_X = pickle_load(\"...\")\n",
    "val_X = pickle_load(\"...\")\n",
    "test_X = pickle_load(\"...\")\n",
    "train_y = pickle_load(\"...\")\n",
    "val_y = pickle_load(\"...\")\n",
    "test_y = pickle_load(\"...\")"
   ]
  },
  {
   "cell_type": "code",
   "execution_count": 5,
   "metadata": {},
   "outputs": [],
   "source": [
    "# データセットの読み込み\n",
    "# \"\"の中身はご自身の環境に合わせて定義してください\n",
    "dataset_dir=\"...\"\n",
    "inputs = {\n",
    "    \"stock_list\": f\"{dataset_dir}/stock_list.csv\",\n",
    "    \"stock_price\": f\"{dataset_dir}/stock_price.csv\",\n",
    "    \"stock_fin\": f\"{dataset_dir}/stock_fin.csv\",\n",
    "    \"stock_labels\": f\"{dataset_dir}/stock_labels.csv\",\n",
    "}\n",
    "\n",
    "dfs = {}\n",
    "for k, v in inputs.items():\n",
    "    dfs[k] = pd.read_csv(v)"
   ]
  },
  {
   "cell_type": "code",
   "execution_count": 14,
   "metadata": {},
   "outputs": [],
   "source": [
    "def get_score_of_volatility(df_X, df_y):\n",
    "    tmp_df = df_X[\"label_high_20\"].copy()\n",
    "    tmp_df[\"label_high\"] = df_y[\"label_high_20\"]\n",
    "    tmp_df[\"label_low\"]  = df_y[\"label_low_20\"]\n",
    "    rho_high = tmp_df[\"volatility_1month\"].rank().corr(tmp_df[\"label_high\"].rank())\n",
    "    rho_low = -tmp_df[\"volatility_1month\"].rank().corr(tmp_df[\"label_low\"].rank())\n",
    "    score = (rho_high - 1)**2 + (rho_low - 1)**2\n",
    "    return score"
   ]
  },
  {
   "cell_type": "markdown",
   "metadata": {},
   "source": [
    "## volatility_1monthのみで予測したtrainデータのスコア"
   ]
  },
  {
   "cell_type": "code",
   "execution_count": 15,
   "metadata": {},
   "outputs": [
    {
     "data": {
      "text/plain": [
       "1.290669731596573"
      ]
     },
     "execution_count": 15,
     "metadata": {},
     "output_type": "execute_result"
    }
   ],
   "source": [
    "get_score_of_volatility(train_X, train_y)"
   ]
  },
  {
   "cell_type": "markdown",
   "metadata": {},
   "source": [
    "## volatility_1monthのみで予測したvalデータのスコア"
   ]
  },
  {
   "cell_type": "code",
   "execution_count": 16,
   "metadata": {},
   "outputs": [
    {
     "data": {
      "text/plain": [
       "1.1433213619473521"
      ]
     },
     "execution_count": 16,
     "metadata": {},
     "output_type": "execute_result"
    }
   ],
   "source": [
    "get_score_of_volatility(val_X, val_y)"
   ]
  },
  {
   "cell_type": "markdown",
   "metadata": {},
   "source": [
    "## volatility_1monthのみで予測したtestデータのスコア"
   ]
  },
  {
   "cell_type": "code",
   "execution_count": 17,
   "metadata": {},
   "outputs": [
    {
     "data": {
      "text/plain": [
       "1.2107673177457172"
      ]
     },
     "execution_count": 17,
     "metadata": {},
     "output_type": "execute_result"
    }
   ],
   "source": [
    "get_score_of_volatility(test_X, test_y)"
   ]
  }
 ],
 "metadata": {
  "kernelspec": {
   "display_name": "Python 3",
   "language": "python",
   "name": "python3"
  },
  "language_info": {
   "codemirror_mode": {
    "name": "ipython",
    "version": 3
   },
   "file_extension": ".py",
   "mimetype": "text/x-python",
   "name": "python",
   "nbconvert_exporter": "python",
   "pygments_lexer": "ipython3",
   "version": "3.7.0"
  },
  "toc": {
   "base_numbering": 1,
   "nav_menu": {},
   "number_sections": true,
   "sideBar": true,
   "skip_h1_title": false,
   "title_cell": "Table of Contents",
   "title_sidebar": "Contents",
   "toc_cell": false,
   "toc_position": {},
   "toc_section_display": true,
   "toc_window_display": true
  }
 },
 "nbformat": 4,
 "nbformat_minor": 4
}
